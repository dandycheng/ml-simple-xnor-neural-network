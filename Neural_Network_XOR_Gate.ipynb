{
  "nbformat": 4,
  "nbformat_minor": 0,
  "metadata": {
    "colab": {
      "name": "Neural Network XOR Gate.ipynb",
      "provenance": [],
      "collapsed_sections": []
    },
    "kernelspec": {
      "name": "python3",
      "display_name": "Python 3"
    }
  },
  "cells": [
    {
      "cell_type": "code",
      "metadata": {
        "id": "8L-qH3i5D8Ff",
        "colab_type": "code",
        "colab": {}
      },
      "source": [
        "import numpy as np\n",
        "import matplotlib.pyplot as plt"
      ],
      "execution_count": 1,
      "outputs": []
    },
    {
      "cell_type": "code",
      "metadata": {
        "id": "Z-DowlEqgj9e",
        "colab_type": "code",
        "colab": {}
      },
      "source": [
        "class Activation:\n",
        "    @staticmethod\n",
        "    def sigmoid(z):\n",
        "        return 1 / (1 + np.exp(-z))\n",
        "\n",
        "    @staticmethod\n",
        "    def softmax(z):\n",
        "        return np.exp(z) / np.exp(z).sum()"
      ],
      "execution_count": 2,
      "outputs": []
    },
    {
      "cell_type": "code",
      "metadata": {
        "id": "HzdUVsaKF8sC",
        "colab_type": "code",
        "colab": {}
      },
      "source": [
        "class Loss:\n",
        "    def log(Y,A):\n",
        "        return Y * np.log(A) + (1 - Y) * np.log(1 - A)"
      ],
      "execution_count": 3,
      "outputs": []
    },
    {
      "cell_type": "markdown",
      "metadata": {
        "id": "rWUW5YJcnqnp",
        "colab_type": "text"
      },
      "source": [
        "##Implementation\n",
        "An XNOR gate has the following logic:\n",
        "\n",
        "<img src=\"https://www.electronics-tutorial.net/wp-content/uploads/2015/08/XNOR1.png\" align=\"center\"/>\n",
        "\n",
        "# Notation\n",
        "\\begin{gathered}\n",
        "    \\Theta = \\begin{bmatrix}\n",
        "    \\theta^{(1)} & \\theta^{(2)}\n",
        "    \\end{bmatrix}\\\\\n",
        "    A=\\begin{bmatrix}\n",
        "    a^{(1)} & a^{(2)} & a^{(3)}\n",
        "    \\end{bmatrix}\\\\\n",
        "    \\Delta=\\begin{bmatrix}\n",
        "    \\delta^{(1)} & \\delta^{(2)} & \\delta^{(3)}\n",
        "    \\end{bmatrix}\\\\\n",
        "    a^{(L)} = \\text{Output layer}\\\\\\\\\n",
        "\\end{gathered}\n",
        "#### First we feed the input into $a^{(1)}$\n",
        "# Feedforward\n",
        "#### To feedforward, we pass the weighted sum into the Sigmoid activation function:\n",
        "\n",
        "\\begin{gathered}\n",
        "    \\sigma(\\sum_{i=0}^{S_l}\\sum_{j=1}^{S_{l+1}}a_{i}^{(l)}\\theta_{ji}^{(l)}) = \\sigma(\\Theta^{(l)}A^{(l)})\n",
        "\\end{gathered}\n",
        "\n",
        "#### After feeding forward for training example $x^{(t)}$, we now perform backpropagation by calculating error for each layer:\n",
        "\n",
        "#Backpropagation\n",
        "The error for layer $l$ is calculated as:\n",
        "\\begin{gathered}\n",
        "    \\frac{\\partial J(\\Theta)}{\\partial\\Theta^{(l)}} = \n",
        "    \\frac{\\partial J(\\Theta)}{\\partial a^{(l)}}\n",
        "    \\frac{\\partial a^{(l)}}{\\partial z^{(l)}}\n",
        "    \\frac{\\partial z^{(l)}}{\\partial \\Theta^{(l)}}\\\\\\\\\n",
        "\\end{gathered}\n",
        "#### Without going too much into detail, the formula for the error in layer $l$ is:\n",
        "\n",
        "\n",
        "\\begin{gathered}\n",
        "    \\text{for }0...L:\\\\\n",
        "    \\delta^{(l)}=\\begin{cases}\n",
        "        y^{(t)} - a^{(L)}, \\text{if }l = L\\\\\n",
        "        ((\\Theta^{(l)})^T \\delta^{(l + 1)}) \\circ a^{(l)}\n",
        "    \\circ (1 - a^{(l)}), \\text{if }l < L - 2\n",
        "        \\end{cases}\n",
        "\\end{gathered}\n",
        "\n",
        "#### After calculating the error, we can update the weights with the following:\n",
        "\n",
        "$\n",
        "    \\begin{gathered}\n",
        "        \\Theta^{(l)}:=\\Theta^{(l)} - \\alpha \\frac{\\partial J(\\Theta)}{\\partial \\Theta^{(l)}}\\equiv \\Theta^{(l)} - \\frac{\\alpha}{m} a^{(l)}\\delta^{(l)}\n",
        "    \\end{gathered}\n",
        "\n",
        "#### To update biases, the following update rule is performed:\n",
        "\n",
        "\\begin{gathered}\n",
        "    \\Theta_b^{(l)}:= \\Theta_b^{(l)} - \\frac{\\alpha}{m}1 \\cdot \\delta^{(l + 1)}$\n",
        "\\end{gathered}\n"
      ]
    },
    {
      "cell_type": "code",
      "metadata": {
        "id": "ExK7yaegAhuP",
        "colab_type": "code",
        "colab": {}
      },
      "source": [
        "train_x = np.array([[1,0],[0,0],[0,1],[1,1]])\n",
        "train_y = np.array([0,1,0,1])\n",
        "m = len(train_x)\n",
        "\n",
        "layers = [3,3,1]\n",
        "L = len(layers) - 1\n",
        "thetaVec = [np.random.rand(layers[x + 1],layers[x]) for x in range(L)]\n",
        "A = [np.zeros((V,1)) for V in layers]\n",
        "deltaVec = A.copy()\n",
        "\n",
        "cost_hist = []\n",
        "grad = []"
      ],
      "execution_count": 255,
      "outputs": []
    },
    {
      "cell_type": "code",
      "metadata": {
        "id": "o2rGIkWDE_7u",
        "colab_type": "code",
        "colab": {}
      },
      "source": [
        "def feedforward(X,epsilon = 0):\n",
        "    A[0][1:] = X.reshape((len(X),1))\n",
        "    for l in range(L):\n",
        "        A[l + 1] = Activation.sigmoid((thetaVec[l] + epsilon) @ A[l])\n",
        "    return A[L].sum()"
      ],
      "execution_count": 203,
      "outputs": []
    },
    {
      "cell_type": "code",
      "metadata": {
        "id": "738zWr-FFH85",
        "colab_type": "code",
        "colab": {}
      },
      "source": [
        "def calc_error(y):\n",
        "    for l in range(L,0,-1):\n",
        "        if l == L:\n",
        "            deltaVec[l] = A[L] - y\n",
        "        else:\n",
        "            deltaVec[l] = thetaVec[l].T @ deltaVec[l + 1] * A[l] * (1 - A[l])"
      ],
      "execution_count": 228,
      "outputs": []
    },
    {
      "cell_type": "code",
      "metadata": {
        "id": "LiXtTKzEFvjF",
        "colab_type": "code",
        "colab": {}
      },
      "source": [
        "def J(m,net_loss):\n",
        "    return ((-1 / m) * net_loss).sum()"
      ],
      "execution_count": 57,
      "outputs": []
    },
    {
      "cell_type": "code",
      "metadata": {
        "id": "cNtAE38_aDLl",
        "colab_type": "code",
        "colab": {}
      },
      "source": [
        "def check_gradient(x,y,epsilon):\n",
        "    feedforward(x,epsilon)\n",
        "    j_plus_loss = Loss.log(y,A[L])\n",
        "    j_plus = J(m,j_plus_loss)\n",
        "\n",
        "    feedforward(x,-epsilon)\n",
        "    j_minus_loss = Loss.log(y,A[L])\n",
        "    j_minus = J(m,j_minus_loss)\n",
        "\n",
        "    return (j_plus - j_minus) / (2 * epsilon)"
      ],
      "execution_count": 194,
      "outputs": []
    },
    {
      "cell_type": "code",
      "metadata": {
        "id": "m1V5iD5zGTvQ",
        "colab_type": "code",
        "colab": {}
      },
      "source": [
        "def train(lr,epochs,calc_cost = False,check_grad = False,epsilon = 0):\n",
        "    global thetaVec,grad,A\n",
        "    n_epochs = 0\n",
        "    while n_epochs < epochs:\n",
        "        net_loss = 0\n",
        "        if check_grad:\n",
        "            grad.append(check_gradient(train_x[0],train_y[0],epsilon))\n",
        "\n",
        "        for x,y in zip(train_x,train_y):\n",
        "            feedforward(x)\n",
        "            calc_error(y)\n",
        "\n",
        "            if calc_cost:\n",
        "                net_loss += Loss.log(y,A[L])\n",
        "\n",
        "            for l in range(L):\n",
        "                if l < L - 2:\n",
        "                    thetaVec[l] -= (lr / m) * (deltaVec[l + 1] @ A[l].T)\n",
        "                else:\n",
        "                    thetaVec[l] -= (lr / m) * (deltaVec[l + 1] * A[l].T)\n",
        "                thetaVec[l][:,0] -= (lr / m) * deltaVec[l + 1].sum()\n",
        "\n",
        "        n_epochs += 1\n",
        "        if calc_cost:\n",
        "            cost_hist.append(J(m,net_loss))"
      ],
      "execution_count": 254,
      "outputs": []
    },
    {
      "cell_type": "code",
      "metadata": {
        "id": "b0j6ySkxTHmg",
        "colab_type": "code",
        "colab": {}
      },
      "source": [
        "def predict(X):\n",
        "    feedforward(X)\n",
        "    return [X,int(A[L].sum() > 0.5),A[L].sum()]"
      ],
      "execution_count": 260,
      "outputs": []
    },
    {
      "cell_type": "code",
      "metadata": {
        "id": "4zF87T4MSDBx",
        "colab_type": "code",
        "colab": {}
      },
      "source": [
        "train(1e-2,100000,check_grad = True,calc_cost = True,epsilon = 1e-4)"
      ],
      "execution_count": 256,
      "outputs": []
    },
    {
      "cell_type": "code",
      "metadata": {
        "id": "yJaWcUUwTlgD",
        "colab_type": "code",
        "colab": {
          "base_uri": "https://localhost:8080/",
          "height": 295
        },
        "outputId": "c8cfd2ce-2ac0-41ca-c67e-892aa514631c"
      },
      "source": [
        "x_axis = [cost_hist,grad]\n",
        "y_label = [\"Cost\",\"Gradient\"]\n",
        "title = [\"Network cost\",\"Gradient\"]\n",
        "\n",
        "fig = plt.figure(figsize=(10,4))\n",
        "for i,y in enumerate(y_label):\n",
        "    fig.subplots_adjust(wspace=0.3)\n",
        "    fig.add_subplot(1,2,i + 1)\n",
        "    plt.xlabel(\"Epochs\")\n",
        "    plt.ylabel(y)\n",
        "    plt.title(title[i])\n",
        "    plt.plot(x_axis[i])"
      ],
      "execution_count": 317,
      "outputs": [
        {
          "output_type": "display_data",
          "data": {
            "image/png": "[encoded data removed]",
            "text/plain": [
              "<Figure size 720x288 with 2 Axes>"
            ]
          },
          "metadata": {
            "tags": [],
            "needs_background": "light"
          }
        }
      ]
    },
    {
      "cell_type": "code",
      "metadata": {
        "id": "T997bCUISWwe",
        "colab_type": "code",
        "colab": {
          "base_uri": "https://localhost:8080/",
          "height": 89
        },
        "outputId": "c226eb4a-163c-49ff-a480-b5b0894d75fc"
      },
      "source": [
        "for x in train_x:\n",
        "    print(predict(x))"
      ],
      "execution_count": 261,
      "outputs": [
        {
          "output_type": "stream",
          "text": [
            "[array([1, 0]), 0, 0.03868189877981739]\n",
            "[array([0, 0]), 1, 0.934707086861418]\n",
            "[array([0, 1]), 0, 0.028048266153840578]\n",
            "[array([1, 1]), 1, 0.9874319451063889]\n"
          ],
          "name": "stdout"
        }
      ]
    }
  ]
}